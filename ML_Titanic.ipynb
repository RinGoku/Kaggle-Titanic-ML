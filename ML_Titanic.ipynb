{
  "nbformat": 4,
  "nbformat_minor": 0,
  "metadata": {
    "colab": {
      "name": "ML-Titanic.ipynb",
      "version": "0.3.2",
      "provenance": [],
      "collapsed_sections": [],
      "include_colab_link": true
    },
    "kernelspec": {
      "name": "python3",
      "display_name": "Python 3"
    }
  },
  "cells": [
    {
      "cell_type": "markdown",
      "metadata": {
        "id": "view-in-github",
        "colab_type": "text"
      },
      "source": [
        "<a href=\"https://colab.research.google.com/github/RinGoku/Kaggle-Titanic-ML/blob/master/ML_Titanic.ipynb\" target=\"_parent\"><img src=\"https://colab.research.google.com/assets/colab-badge.svg\" alt=\"Open In Colab\"/></a>"
      ]
    },
    {
      "metadata": {
        "id": "MHiam6jdUsW1",
        "colab_type": "code",
        "outputId": "5406a060-2385-439c-cd9d-52e4be80e1d5",
        "colab": {
          "base_uri": "https://localhost:8080/",
          "height": 3247
        }
      },
      "cell_type": "code",
      "source": [
        "import pandas as pd\n",
        "import matplotlib.pyplot as plt\n",
        "import numpy\n",
        "\n",
        "# トレーニングデータ読込(性別をコード化)\n",
        "df= pd.read_csv(\"train.csv\").replace(\"male\",0).replace(\"female\",1)\n",
        "\n",
        "print(df)"
      ],
      "execution_count": 39,
      "outputs": [
        {
          "output_type": "stream",
          "text": [
            "     PassengerId  Survived  Pclass  \\\n",
            "0              1         0       3   \n",
            "1              2         1       1   \n",
            "2              3         1       3   \n",
            "3              4         1       1   \n",
            "4              5         0       3   \n",
            "5              6         0       3   \n",
            "6              7         0       1   \n",
            "7              8         0       3   \n",
            "8              9         1       3   \n",
            "9             10         1       2   \n",
            "10            11         1       3   \n",
            "11            12         1       1   \n",
            "12            13         0       3   \n",
            "13            14         0       3   \n",
            "14            15         0       3   \n",
            "15            16         1       2   \n",
            "16            17         0       3   \n",
            "17            18         1       2   \n",
            "18            19         0       3   \n",
            "19            20         1       3   \n",
            "20            21         0       2   \n",
            "21            22         1       2   \n",
            "22            23         1       3   \n",
            "23            24         1       1   \n",
            "24            25         0       3   \n",
            "25            26         1       3   \n",
            "26            27         0       3   \n",
            "27            28         0       1   \n",
            "28            29         1       3   \n",
            "29            30         0       3   \n",
            "..           ...       ...     ...   \n",
            "861          862         0       2   \n",
            "862          863         1       1   \n",
            "863          864         0       3   \n",
            "864          865         0       2   \n",
            "865          866         1       2   \n",
            "866          867         1       2   \n",
            "867          868         0       1   \n",
            "868          869         0       3   \n",
            "869          870         1       3   \n",
            "870          871         0       3   \n",
            "871          872         1       1   \n",
            "872          873         0       1   \n",
            "873          874         0       3   \n",
            "874          875         1       2   \n",
            "875          876         1       3   \n",
            "876          877         0       3   \n",
            "877          878         0       3   \n",
            "878          879         0       3   \n",
            "879          880         1       1   \n",
            "880          881         1       2   \n",
            "881          882         0       3   \n",
            "882          883         0       3   \n",
            "883          884         0       2   \n",
            "884          885         0       3   \n",
            "885          886         0       3   \n",
            "886          887         0       2   \n",
            "887          888         1       1   \n",
            "888          889         0       3   \n",
            "889          890         1       1   \n",
            "890          891         0       3   \n",
            "\n",
            "                                                  Name  Sex   Age  SibSp  \\\n",
            "0                              Braund, Mr. Owen Harris    0  22.0      1   \n",
            "1    Cumings, Mrs. John Bradley (Florence Briggs Th...    1  38.0      1   \n",
            "2                               Heikkinen, Miss. Laina    1  26.0      0   \n",
            "3         Futrelle, Mrs. Jacques Heath (Lily May Peel)    1  35.0      1   \n",
            "4                             Allen, Mr. William Henry    0  35.0      0   \n",
            "5                                     Moran, Mr. James    0   NaN      0   \n",
            "6                              McCarthy, Mr. Timothy J    0  54.0      0   \n",
            "7                       Palsson, Master. Gosta Leonard    0   2.0      3   \n",
            "8    Johnson, Mrs. Oscar W (Elisabeth Vilhelmina Berg)    1  27.0      0   \n",
            "9                  Nasser, Mrs. Nicholas (Adele Achem)    1  14.0      1   \n",
            "10                     Sandstrom, Miss. Marguerite Rut    1   4.0      1   \n",
            "11                            Bonnell, Miss. Elizabeth    1  58.0      0   \n",
            "12                      Saundercock, Mr. William Henry    0  20.0      0   \n",
            "13                         Andersson, Mr. Anders Johan    0  39.0      1   \n",
            "14                Vestrom, Miss. Hulda Amanda Adolfina    1  14.0      0   \n",
            "15                    Hewlett, Mrs. (Mary D Kingcome)     1  55.0      0   \n",
            "16                                Rice, Master. Eugene    0   2.0      4   \n",
            "17                        Williams, Mr. Charles Eugene    0   NaN      0   \n",
            "18   Vander Planke, Mrs. Julius (Emelia Maria Vande...    1  31.0      1   \n",
            "19                             Masselmani, Mrs. Fatima    1   NaN      0   \n",
            "20                                Fynney, Mr. Joseph J    0  35.0      0   \n",
            "21                               Beesley, Mr. Lawrence    0  34.0      0   \n",
            "22                         McGowan, Miss. Anna \"Annie\"    1  15.0      0   \n",
            "23                        Sloper, Mr. William Thompson    0  28.0      0   \n",
            "24                       Palsson, Miss. Torborg Danira    1   8.0      3   \n",
            "25   Asplund, Mrs. Carl Oscar (Selma Augusta Emilia...    1  38.0      1   \n",
            "26                             Emir, Mr. Farred Chehab    0   NaN      0   \n",
            "27                      Fortune, Mr. Charles Alexander    0  19.0      3   \n",
            "28                       O'Dwyer, Miss. Ellen \"Nellie\"    1   NaN      0   \n",
            "29                                 Todoroff, Mr. Lalio    0   NaN      0   \n",
            "..                                                 ...  ...   ...    ...   \n",
            "861                        Giles, Mr. Frederick Edward    0  21.0      1   \n",
            "862  Swift, Mrs. Frederick Joel (Margaret Welles Ba...    1  48.0      0   \n",
            "863                  Sage, Miss. Dorothy Edith \"Dolly\"    1   NaN      8   \n",
            "864                             Gill, Mr. John William    0  24.0      0   \n",
            "865                           Bystrom, Mrs. (Karolina)    1  42.0      0   \n",
            "866                       Duran y More, Miss. Asuncion    1  27.0      1   \n",
            "867               Roebling, Mr. Washington Augustus II    0  31.0      0   \n",
            "868                        van Melkebeke, Mr. Philemon    0   NaN      0   \n",
            "869                    Johnson, Master. Harold Theodor    0   4.0      1   \n",
            "870                                  Balkic, Mr. Cerin    0  26.0      0   \n",
            "871   Beckwith, Mrs. Richard Leonard (Sallie Monypeny)    1  47.0      1   \n",
            "872                           Carlsson, Mr. Frans Olof    0  33.0      0   \n",
            "873                        Vander Cruyssen, Mr. Victor    0  47.0      0   \n",
            "874              Abelson, Mrs. Samuel (Hannah Wizosky)    1  28.0      1   \n",
            "875                   Najib, Miss. Adele Kiamie \"Jane\"    1  15.0      0   \n",
            "876                      Gustafsson, Mr. Alfred Ossian    0  20.0      0   \n",
            "877                               Petroff, Mr. Nedelio    0  19.0      0   \n",
            "878                                 Laleff, Mr. Kristo    0   NaN      0   \n",
            "879      Potter, Mrs. Thomas Jr (Lily Alexenia Wilson)    1  56.0      0   \n",
            "880       Shelley, Mrs. William (Imanita Parrish Hall)    1  25.0      0   \n",
            "881                                 Markun, Mr. Johann    0  33.0      0   \n",
            "882                       Dahlberg, Miss. Gerda Ulrika    1  22.0      0   \n",
            "883                      Banfield, Mr. Frederick James    0  28.0      0   \n",
            "884                             Sutehall, Mr. Henry Jr    0  25.0      0   \n",
            "885               Rice, Mrs. William (Margaret Norton)    1  39.0      0   \n",
            "886                              Montvila, Rev. Juozas    0  27.0      0   \n",
            "887                       Graham, Miss. Margaret Edith    1  19.0      0   \n",
            "888           Johnston, Miss. Catherine Helen \"Carrie\"    1   NaN      1   \n",
            "889                              Behr, Mr. Karl Howell    0  26.0      0   \n",
            "890                                Dooley, Mr. Patrick    0  32.0      0   \n",
            "\n",
            "     Parch            Ticket      Fare        Cabin Embarked  \n",
            "0        0         A/5 21171    7.2500          NaN        S  \n",
            "1        0          PC 17599   71.2833          C85        C  \n",
            "2        0  STON/O2. 3101282    7.9250          NaN        S  \n",
            "3        0            113803   53.1000         C123        S  \n",
            "4        0            373450    8.0500          NaN        S  \n",
            "5        0            330877    8.4583          NaN        Q  \n",
            "6        0             17463   51.8625          E46        S  \n",
            "7        1            349909   21.0750          NaN        S  \n",
            "8        2            347742   11.1333          NaN        S  \n",
            "9        0            237736   30.0708          NaN        C  \n",
            "10       1           PP 9549   16.7000           G6        S  \n",
            "11       0            113783   26.5500         C103        S  \n",
            "12       0         A/5. 2151    8.0500          NaN        S  \n",
            "13       5            347082   31.2750          NaN        S  \n",
            "14       0            350406    7.8542          NaN        S  \n",
            "15       0            248706   16.0000          NaN        S  \n",
            "16       1            382652   29.1250          NaN        Q  \n",
            "17       0            244373   13.0000          NaN        S  \n",
            "18       0            345763   18.0000          NaN        S  \n",
            "19       0              2649    7.2250          NaN        C  \n",
            "20       0            239865   26.0000          NaN        S  \n",
            "21       0            248698   13.0000          D56        S  \n",
            "22       0            330923    8.0292          NaN        Q  \n",
            "23       0            113788   35.5000           A6        S  \n",
            "24       1            349909   21.0750          NaN        S  \n",
            "25       5            347077   31.3875          NaN        S  \n",
            "26       0              2631    7.2250          NaN        C  \n",
            "27       2             19950  263.0000  C23 C25 C27        S  \n",
            "28       0            330959    7.8792          NaN        Q  \n",
            "29       0            349216    7.8958          NaN        S  \n",
            "..     ...               ...       ...          ...      ...  \n",
            "861      0             28134   11.5000          NaN        S  \n",
            "862      0             17466   25.9292          D17        S  \n",
            "863      2          CA. 2343   69.5500          NaN        S  \n",
            "864      0            233866   13.0000          NaN        S  \n",
            "865      0            236852   13.0000          NaN        S  \n",
            "866      0     SC/PARIS 2149   13.8583          NaN        C  \n",
            "867      0          PC 17590   50.4958          A24        S  \n",
            "868      0            345777    9.5000          NaN        S  \n",
            "869      1            347742   11.1333          NaN        S  \n",
            "870      0            349248    7.8958          NaN        S  \n",
            "871      1             11751   52.5542          D35        S  \n",
            "872      0               695    5.0000  B51 B53 B55        S  \n",
            "873      0            345765    9.0000          NaN        S  \n",
            "874      0         P/PP 3381   24.0000          NaN        C  \n",
            "875      0              2667    7.2250          NaN        C  \n",
            "876      0              7534    9.8458          NaN        S  \n",
            "877      0            349212    7.8958          NaN        S  \n",
            "878      0            349217    7.8958          NaN        S  \n",
            "879      1             11767   83.1583          C50        C  \n",
            "880      1            230433   26.0000          NaN        S  \n",
            "881      0            349257    7.8958          NaN        S  \n",
            "882      0              7552   10.5167          NaN        S  \n",
            "883      0  C.A./SOTON 34068   10.5000          NaN        S  \n",
            "884      0   SOTON/OQ 392076    7.0500          NaN        S  \n",
            "885      5            382652   29.1250          NaN        Q  \n",
            "886      0            211536   13.0000          NaN        S  \n",
            "887      0            112053   30.0000          B42        S  \n",
            "888      2        W./C. 6607   23.4500          NaN        S  \n",
            "889      0            111369   30.0000         C148        C  \n",
            "890      0            370376    7.7500          NaN        Q  \n",
            "\n",
            "[891 rows x 12 columns]\n"
          ],
          "name": "stdout"
        }
      ]
    },
    {
      "metadata": {
        "id": "mQs1nElUYYqH",
        "colab_type": "text"
      },
      "cell_type": "markdown",
      "source": [
        "客室のグレード"
      ]
    },
    {
      "metadata": {
        "id": "eqgARCqAYKK4",
        "colab_type": "code",
        "colab": {
          "base_uri": "https://localhost:8080/",
          "height": 320
        },
        "outputId": "9da87a93-f07e-4198-c96d-6b8ec7737ee3"
      },
      "cell_type": "code",
      "source": [
        "df[\"Age\"].fillna(df.Age.median(), inplace=True)\n",
        "split_data = []\n",
        "for survived in [0,1]:\n",
        "    split_data.append(df[df.Survived==survived])\n",
        "\n",
        "temp = [i[\"Pclass\"].dropna() for i in split_data]\n",
        "plt.hist(temp, histtype=\"barstacked\", bins=3)"
      ],
      "execution_count": 3,
      "outputs": [
        {
          "output_type": "execute_result",
          "data": {
            "text/plain": [
              "([array([ 80.,  97., 372.]), array([216., 184., 491.])],\n",
              " array([1.        , 1.66666667, 2.33333333, 3.        ]),\n",
              " <a list of 2 Lists of Patches objects>)"
            ]
          },
          "metadata": {
            "tags": []
          },
          "execution_count": 3
        },
        {
          "output_type": "display_data",
          "data": {
            "image/png": "[encoded data removed]",
            "text/plain": [
              "<Figure size 432x288 with 1 Axes>"
            ]
          },
          "metadata": {
            "tags": []
          }
        }
      ]
    },
    {
      "metadata": {
        "id": "ikchM-k5YPUQ",
        "colab_type": "text"
      },
      "cell_type": "markdown",
      "source": [
        "年齢ヒストグラム"
      ]
    },
    {
      "metadata": {
        "id": "heqMzetLYSWN",
        "colab_type": "code",
        "colab": {
          "base_uri": "https://localhost:8080/",
          "height": 405
        },
        "outputId": "2e7a03f9-301d-4d8d-9d7e-894af4e24e66"
      },
      "cell_type": "code",
      "source": [
        "temp = [i[\"Age\"].dropna() for i in split_data]\n",
        "plt.hist(temp, histtype=\"barstacked\", bins=16)"
      ],
      "execution_count": 4,
      "outputs": [
        {
          "output_type": "execute_result",
          "data": {
            "text/plain": [
              "([array([ 13.,  13.,   8.,  63.,  80., 191.,  47.,  39.,  30.,  23.,  14.,\n",
              "          11.,  10.,   3.,   4.,   0.]),\n",
              "  array([ 44.,  20.,  19.,  96., 122., 285.,  88.,  67.,  47.,  39.,  24.,\n",
              "          18.,  14.,   3.,   4.,   1.])],\n",
              " array([ 0.42   ,  5.39375, 10.3675 , 15.34125, 20.315  , 25.28875,\n",
              "        30.2625 , 35.23625, 40.21   , 45.18375, 50.1575 , 55.13125,\n",
              "        60.105  , 65.07875, 70.0525 , 75.02625, 80.     ]),\n",
              " <a list of 2 Lists of Patches objects>)"
            ]
          },
          "metadata": {
            "tags": []
          },
          "execution_count": 4
        },
        {
          "output_type": "display_data",
          "data": {
            "image/png": "[encoded data removed]",
            "text/plain": [
              "<Figure size 432x288 with 1 Axes>"
            ]
          },
          "metadata": {
            "tags": []
          }
        }
      ]
    },
    {
      "metadata": {
        "id": "Dmupyko4YnEr",
        "colab_type": "text"
      },
      "cell_type": "markdown",
      "source": [
        "データ整形"
      ]
    },
    {
      "metadata": {
        "id": "b0ISuF6mYpH7",
        "colab_type": "code",
        "colab": {
          "base_uri": "https://localhost:8080/",
          "height": 1105
        },
        "outputId": "0b7bb9b2-ebad-4ba5-ff20-5bc86a58130e"
      },
      "cell_type": "code",
      "source": [
        "# 家族人数 = 同情している兄弟/配偶者の数 + 同乗している親/子供の数 + 本人\n",
        "df[\"FamilySize\"] = df[\"SibSp\"] + df[\"Parch\"] + 1\n",
        "# 整形後のデータ\n",
        "# df2 = df.drop([\"Name\", \"SibSp\", \"Parch\", \"Ticket\", \"Fare\", \"Cabin\", \"Embarked\"], axis=1)\n",
        "df2 = df.drop([\"Name\", \"SibSp\", \"Parch\", \"Ticket\", \"Cabin\", \"Embarked\"], axis=1)\n",
        "\n",
        "print(df2)"
      ],
      "execution_count": 37,
      "outputs": [
        {
          "output_type": "stream",
          "text": [
            "     PassengerId  Survived  Pclass  Sex   Age      Fare  FamilySize\n",
            "0              1         0       3    0  22.0    7.2500           2\n",
            "1              2         1       1    1  38.0   71.2833           2\n",
            "2              3         1       3    1  26.0    7.9250           1\n",
            "3              4         1       1    1  35.0   53.1000           2\n",
            "4              5         0       3    0  35.0    8.0500           1\n",
            "5              6         0       3    0   NaN    8.4583           1\n",
            "6              7         0       1    0  54.0   51.8625           1\n",
            "7              8         0       3    0   2.0   21.0750           5\n",
            "8              9         1       3    1  27.0   11.1333           3\n",
            "9             10         1       2    1  14.0   30.0708           2\n",
            "10            11         1       3    1   4.0   16.7000           3\n",
            "11            12         1       1    1  58.0   26.5500           1\n",
            "12            13         0       3    0  20.0    8.0500           1\n",
            "13            14         0       3    0  39.0   31.2750           7\n",
            "14            15         0       3    1  14.0    7.8542           1\n",
            "15            16         1       2    1  55.0   16.0000           1\n",
            "16            17         0       3    0   2.0   29.1250           6\n",
            "17            18         1       2    0   NaN   13.0000           1\n",
            "18            19         0       3    1  31.0   18.0000           2\n",
            "19            20         1       3    1   NaN    7.2250           1\n",
            "20            21         0       2    0  35.0   26.0000           1\n",
            "21            22         1       2    0  34.0   13.0000           1\n",
            "22            23         1       3    1  15.0    8.0292           1\n",
            "23            24         1       1    0  28.0   35.5000           1\n",
            "24            25         0       3    1   8.0   21.0750           5\n",
            "25            26         1       3    1  38.0   31.3875           7\n",
            "26            27         0       3    0   NaN    7.2250           1\n",
            "27            28         0       1    0  19.0  263.0000           6\n",
            "28            29         1       3    1   NaN    7.8792           1\n",
            "29            30         0       3    0   NaN    7.8958           1\n",
            "..           ...       ...     ...  ...   ...       ...         ...\n",
            "861          862         0       2    0  21.0   11.5000           2\n",
            "862          863         1       1    1  48.0   25.9292           1\n",
            "863          864         0       3    1   NaN   69.5500          11\n",
            "864          865         0       2    0  24.0   13.0000           1\n",
            "865          866         1       2    1  42.0   13.0000           1\n",
            "866          867         1       2    1  27.0   13.8583           2\n",
            "867          868         0       1    0  31.0   50.4958           1\n",
            "868          869         0       3    0   NaN    9.5000           1\n",
            "869          870         1       3    0   4.0   11.1333           3\n",
            "870          871         0       3    0  26.0    7.8958           1\n",
            "871          872         1       1    1  47.0   52.5542           3\n",
            "872          873         0       1    0  33.0    5.0000           1\n",
            "873          874         0       3    0  47.0    9.0000           1\n",
            "874          875         1       2    1  28.0   24.0000           2\n",
            "875          876         1       3    1  15.0    7.2250           1\n",
            "876          877         0       3    0  20.0    9.8458           1\n",
            "877          878         0       3    0  19.0    7.8958           1\n",
            "878          879         0       3    0   NaN    7.8958           1\n",
            "879          880         1       1    1  56.0   83.1583           2\n",
            "880          881         1       2    1  25.0   26.0000           2\n",
            "881          882         0       3    0  33.0    7.8958           1\n",
            "882          883         0       3    1  22.0   10.5167           1\n",
            "883          884         0       2    0  28.0   10.5000           1\n",
            "884          885         0       3    0  25.0    7.0500           1\n",
            "885          886         0       3    1  39.0   29.1250           6\n",
            "886          887         0       2    0  27.0   13.0000           1\n",
            "887          888         1       1    1  19.0   30.0000           1\n",
            "888          889         0       3    1   NaN   23.4500           4\n",
            "889          890         1       1    0  26.0   30.0000           1\n",
            "890          891         0       3    0  32.0    7.7500           1\n",
            "\n",
            "[891 rows x 7 columns]\n"
          ],
          "name": "stdout"
        }
      ]
    },
    {
      "metadata": {
        "id": "Fj58kBbeYwBH",
        "colab_type": "text"
      },
      "cell_type": "markdown",
      "source": [
        "学習"
      ]
    },
    {
      "metadata": {
        "id": "hK-1A1hkYyeJ",
        "colab_type": "code",
        "colab": {}
      },
      "cell_type": "code",
      "source": [
        "train_data = df2.values\n",
        "xs = train_data[:, 2:] # Pclass以降の変数\n",
        "y  = train_data[:, 1]  # 正解データ"
      ],
      "execution_count": 0,
      "outputs": []
    },
    {
      "metadata": {
        "id": "-5dkOG1kY4Z6",
        "colab_type": "code",
        "colab": {
          "base_uri": "https://localhost:8080/",
          "height": 1105
        },
        "outputId": "1c1ecb2c-8321-4dff-b006-5d5fa504f25d"
      },
      "cell_type": "code",
      "source": [
        "from sklearn.ensemble import RandomForestClassifier\n",
        "forest = RandomForestClassifier(n_estimators = 100)\n",
        "\n",
        "# 学習\n",
        "forest = forest.fit(xs, y)\n",
        "\n",
        "test_df= pd.read_csv(\"test.csv\").replace(\"male\",0).replace(\"female\",1)\n",
        "# 欠損値の補完\n",
        "test_df[\"Age\"].fillna(df.Age.median(), inplace=True)\n",
        "test_df[\"Fare\"].fillna(df.Fare.median(), inplace=True)\n",
        "test_df[\"FamilySize\"] = test_df[\"SibSp\"] + test_df[\"Parch\"] + 1\n",
        "# test_df2 = test_df.drop([\"Name\", \"SibSp\", \"Parch\", \"Ticket\", \"Fare\", \"Cabin\", \"Embarked\"], axis=1)\n",
        "test_df2 = test_df.drop([\"Name\", \"SibSp\", \"Parch\", \"Ticket\", \"Cabin\", \"Embarked\"], axis=1)\n",
        "print(test_df2)"
      ],
      "execution_count": 36,
      "outputs": [
        {
          "output_type": "stream",
          "text": [
            "     PassengerId  Pclass  Sex   Age      Fare  FamilySize\n",
            "0            892       3    0  34.5    7.8292           1\n",
            "1            893       3    1  47.0    7.0000           2\n",
            "2            894       2    0  62.0    9.6875           1\n",
            "3            895       3    0  27.0    8.6625           1\n",
            "4            896       3    1  22.0   12.2875           3\n",
            "5            897       3    0  14.0    9.2250           1\n",
            "6            898       3    1  30.0    7.6292           1\n",
            "7            899       2    0  26.0   29.0000           3\n",
            "8            900       3    1  18.0    7.2292           1\n",
            "9            901       3    0  21.0   24.1500           3\n",
            "10           902       3    0  28.0    7.8958           1\n",
            "11           903       1    0  46.0   26.0000           1\n",
            "12           904       1    1  23.0   82.2667           2\n",
            "13           905       2    0  63.0   26.0000           2\n",
            "14           906       1    1  47.0   61.1750           2\n",
            "15           907       2    1  24.0   27.7208           2\n",
            "16           908       2    0  35.0   12.3500           1\n",
            "17           909       3    0  21.0    7.2250           1\n",
            "18           910       3    1  27.0    7.9250           2\n",
            "19           911       3    1  45.0    7.2250           1\n",
            "20           912       1    0  55.0   59.4000           2\n",
            "21           913       3    0   9.0    3.1708           2\n",
            "22           914       1    1  28.0   31.6833           1\n",
            "23           915       1    0  21.0   61.3792           2\n",
            "24           916       1    1  48.0  262.3750           5\n",
            "25           917       3    0  50.0   14.5000           2\n",
            "26           918       1    1  22.0   61.9792           2\n",
            "27           919       3    0  22.5    7.2250           1\n",
            "28           920       1    0  41.0   30.5000           1\n",
            "29           921       3    0  28.0   21.6792           3\n",
            "..           ...     ...  ...   ...       ...         ...\n",
            "388         1280       3    0  21.0    7.7500           1\n",
            "389         1281       3    0   6.0   21.0750           5\n",
            "390         1282       1    0  23.0   93.5000           1\n",
            "391         1283       1    1  51.0   39.4000           2\n",
            "392         1284       3    0  13.0   20.2500           3\n",
            "393         1285       2    0  47.0   10.5000           1\n",
            "394         1286       3    0  29.0   22.0250           5\n",
            "395         1287       1    1  18.0   60.0000           2\n",
            "396         1288       3    0  24.0    7.2500           1\n",
            "397         1289       1    1  48.0   79.2000           3\n",
            "398         1290       3    0  22.0    7.7750           1\n",
            "399         1291       3    0  31.0    7.7333           1\n",
            "400         1292       1    1  30.0  164.8667           1\n",
            "401         1293       2    0  38.0   21.0000           2\n",
            "402         1294       1    1  22.0   59.4000           2\n",
            "403         1295       1    0  17.0   47.1000           1\n",
            "404         1296       1    0  43.0   27.7208           2\n",
            "405         1297       2    0  20.0   13.8625           1\n",
            "406         1298       2    0  23.0   10.5000           2\n",
            "407         1299       1    0  50.0  211.5000           3\n",
            "408         1300       3    1  28.0    7.7208           1\n",
            "409         1301       3    1   3.0   13.7750           3\n",
            "410         1302       3    1  28.0    7.7500           1\n",
            "411         1303       1    1  37.0   90.0000           2\n",
            "412         1304       3    1  28.0    7.7750           1\n",
            "413         1305       3    0  28.0    8.0500           1\n",
            "414         1306       1    1  39.0  108.9000           1\n",
            "415         1307       3    0  38.5    7.2500           1\n",
            "416         1308       3    0  28.0    8.0500           1\n",
            "417         1309       3    0  28.0   22.3583           3\n",
            "\n",
            "[418 rows x 6 columns]\n"
          ],
          "name": "stdout"
        }
      ]
    },
    {
      "metadata": {
        "id": "E7za7YbUZJNv",
        "colab_type": "code",
        "colab": {}
      },
      "cell_type": "code",
      "source": [
        ""
      ],
      "execution_count": 0,
      "outputs": []
    },
    {
      "metadata": {
        "id": "VPScqHlSZD3n",
        "colab_type": "code",
        "colab": {
          "base_uri": "https://localhost:8080/",
          "height": 34
        },
        "outputId": "c79b97b5-1e8d-4d95-dcc7-faa6f87041e8"
      },
      "cell_type": "code",
      "source": [
        "test_data = test_df2.values\n",
        "xs_test = test_data[:, 1:]\n",
        "output = forest.predict(xs_test)\n",
        "\n",
        "print(len(test_data[:,0]), len(output))\n",
        "zip_data = zip(test_data[:,0].astype(int), output.astype(int))\n",
        "predict_data = list(zip_data)"
      ],
      "execution_count": 32,
      "outputs": [
        {
          "output_type": "stream",
          "text": [
            "418 418\n"
          ],
          "name": "stdout"
        }
      ]
    },
    {
      "metadata": {
        "id": "a_oWfRprZTPO",
        "colab_type": "code",
        "colab": {}
      },
      "cell_type": "code",
      "source": [
        "import csv\n",
        "with open(\"predict_result_data.csv\", \"w\") as f:\n",
        "    writer = csv.writer(f, lineterminator='\\n')\n",
        "    writer.writerow([\"PassengerId\", \"Survived\"])\n",
        "    for pid, survived in zip(test_data[:,0].astype(int), output.astype(int)):\n",
        "        writer.writerow([pid, survived])"
      ],
      "execution_count": 0,
      "outputs": []
    },
    {
      "metadata": {
        "id": "zkrE54nEZhXm",
        "colab_type": "code",
        "colab": {}
      },
      "cell_type": "code",
      "source": [
        ""
      ],
      "execution_count": 0,
      "outputs": []
    }
  ]
}